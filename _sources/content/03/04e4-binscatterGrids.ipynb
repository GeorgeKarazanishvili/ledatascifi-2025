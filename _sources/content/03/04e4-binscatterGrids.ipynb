{
 "cells": [
  {
   "cell_type": "markdown",
   "id": "76121e68",
   "metadata": {},
   "source": [
    "# Upgrading Pairplots with Binscatter\n",
    "\n",
    "Pairplots are a nice way to look are your continuous variables quickly ([example](04d-whichplot.html#faceting)), but they use scatter plots that don't work well with many observations. \n",
    "\n",
    "Let's upgrade our pairplots to use hexbin plots or binscatter plots instead!\n",
    "\n",
    "We can use `pairgrid_hex_reg` from the Community Codebook:"
   ]
  },
  {
   "cell_type": "code",
   "execution_count": null,
   "id": "bd64e6d0-13c2-4b5e-b914-9ac73424f1d7",
   "metadata": {},
   "outputs": [],
   "source": [
    "import seaborn as sns \n",
    "from pairgrid_hex_reg import pairgrid_hex_reg\n",
    "\n",
    "penguins = sns.load_dataset(\"penguins\")\n"
   ]
  },
  {
   "cell_type": "markdown",
   "id": "144d1798",
   "metadata": {},
   "source": [
    "By default, it uses a hexbin representation:"
   ]
  },
  {
   "cell_type": "code",
   "execution_count": null,
   "id": "6c65b9a3-89b5-4d77-9f73-3b64ed16f325",
   "metadata": {},
   "outputs": [],
   "source": [
    "pairgrid_hex_reg(penguins,hex_size=20)"
   ]
  },
  {
   "cell_type": "markdown",
   "id": "1daf6d41",
   "metadata": {},
   "source": [
    "By setting `hex=False`, it will make a binscatter. Note that this is using `seaborn`'s built in `regplot`, which makes fewer choices than the `binsreg` package used on the prior website page. "
   ]
  },
  {
   "cell_type": "code",
   "execution_count": null,
   "id": "e6c5fe79-9196-428f-bd7f-f5082ff7e346",
   "metadata": {},
   "outputs": [],
   "source": [
    "pairgrid_hex_reg(penguins,hex=False,n_x_bins=10)"
   ]
  }
 ],
 "metadata": {
  "kernelspec": {
   "display_name": "base",
   "language": "python",
   "name": "python3"
  },
  "language_info": {
   "codemirror_mode": {
    "name": "ipython",
    "version": 3
   },
   "file_extension": ".py",
   "mimetype": "text/x-python",
   "name": "python",
   "nbconvert_exporter": "python",
   "pygments_lexer": "ipython3",
   "version": "3.11.5"
  }
 },
 "nbformat": 4,
 "nbformat_minor": 5
}
